{
 "cells": [
  {
   "cell_type": "markdown",
   "metadata": {},
   "source": [
    "<h1><center> Emotions in context (Emotic) </center></h1>\n",
    "<center> Baseline model</center>"
   ]
  },
  {
   "cell_type": "markdown",
   "metadata": {},
   "source": [
    "# I. Prepare places pretrained model"
   ]
  },
  {
   "cell_type": "code",
   "execution_count": 1,
   "metadata": {},
   "outputs": [],
   "source": [
    "import os\n",
    "import requests\n",
    "import torch\n",
    "from torch.autograd import Variable as V\n",
    "import torchvision.models as models\n",
    "from PIL import Image\n",
    "from torchvision import transforms as trn\n",
    "from torch.nn import functional as F\n",
    "import matplotlib.pyplot as plt\n",
    "import numpy as np\n",
    "import scipy.io\n",
    "from sklearn.metrics import average_precision_score, precision_recall_curve\n",
    "import torch.nn as nn\n",
    "import torch.optim as optim \n",
    "from torch.utils.data import Dataset, DataLoader \n",
    "from torchsummary import summary\n",
    "from torchvision import transforms\n",
    "from torch.optim.lr_scheduler import StepLR\n",
    "from transformers import DistilBertModel, DistilBertTokenizer"
   ]
  },
  {
   "cell_type": "code",
   "execution_count": 2,
   "metadata": {},
   "outputs": [
    {
     "name": "stdout",
     "output_type": "stream",
     "text": [
      "Model already exists.\n"
     ]
    }
   ],
   "source": [
    "# Create a directory to save the model\n",
    "os.makedirs(\"places\", exist_ok=True)\n",
    "\n",
    "# URL of the ResNet model\n",
    "model_url = \"http://places2.csail.mit.edu/models_places365/resnet18_places365.pth.tar\"\n",
    "model_path = \"./places/resnet18_places365.pth.tar\"\n",
    "\n",
    "# Download the model if not already downloaded\n",
    "if not os.path.exists(model_path):\n",
    "    print(\"Downloading ResNet model...\")\n",
    "    response = requests.get(model_url, stream=True)\n",
    "    with open(model_path, \"wb\") as f:\n",
    "        for chunk in response.iter_content(chunk_size=1024):\n",
    "            if chunk:\n",
    "                f.write(chunk)\n",
    "    print(\"Download complete.\")\n",
    "else:\n",
    "    print(\"Model already exists.\")\n"
   ]
  },
  {
   "cell_type": "code",
   "execution_count": 3,
   "metadata": {},
   "outputs": [
    {
     "name": "stdout",
     "output_type": "stream",
     "text": [
      "completed cell\n"
     ]
    }
   ],
   "source": [
    "# Saving the model weights to use ahead in the notebook\n",
    "\n",
    "# the architecture to use\n",
    "arch = 'resnet18'\n",
    "model_weight = os.path.join('./places', 'resnet18_places365.pth.tar')\n",
    "\n",
    "# create the network architecture\n",
    "model = models.__dict__[arch](num_classes=365)\n",
    "\n",
    "#model_weight = '%s_places365.pth.tar' % arch\n",
    "\n",
    "checkpoint = torch.load(model_weight, map_location=lambda storage, loc: storage) # model trained in GPU could be deployed in CPU machine like this!\n",
    "state_dict = {str.replace(k,'module.',''): v for k,v in checkpoint['state_dict'].items()} # the data parallel layer will add 'module' before each layer name\n",
    "model.load_state_dict(state_dict)\n",
    "model.eval()\n",
    "\n",
    "model.cpu()\n",
    "torch.save(model.state_dict(), './places/resnet18_state_dict.pth')\n",
    "print ('completed cell')"
   ]
  },
  {
   "cell_type": "markdown",
   "metadata": {},
   "source": [
    "# II. Emotic classes"
   ]
  },
  {
   "cell_type": "markdown",
   "metadata": {},
   "source": [
    "## Emotic Model "
   ]
  },
  {
   "cell_type": "code",
   "execution_count": 4,
   "metadata": {},
   "outputs": [],
   "source": [
    "class EmoticSeparateEmbeddings(nn.Module):\n",
    "    ''' Emotic Model with separate embedding spaces for image and text '''\n",
    "    def __init__(self, context_features, body_features, embedding_dim=256):\n",
    "        super(EmoticSeparateEmbeddings, self).__init__()\n",
    "        self.context_features = context_features\n",
    "        self.body_features = body_features\n",
    "        self.embedding_dim = embedding_dim\n",
    "        \n",
    "        # Image embedding pathway\n",
    "        self.img_fc = nn.Linear(body_features, embedding_dim)\n",
    "        self.img_bn = nn.BatchNorm1d(embedding_dim)\n",
    "        self.img_relu = nn.ReLU()\n",
    "        \n",
    "        # Text embedding pathway\n",
    "        self.text_fc = nn.Linear(context_features, embedding_dim)\n",
    "        self.text_bn = nn.BatchNorm1d(embedding_dim)\n",
    "        self.text_relu = nn.ReLU()\n",
    "        \n",
    "        # Fusion layer\n",
    "        self.fusion = nn.Linear(embedding_dim * 2, embedding_dim)\n",
    "        self.fusion_bn = nn.BatchNorm1d(embedding_dim)\n",
    "        self.fusion_relu = nn.ReLU()\n",
    "        self.dropout = nn.Dropout(p=0.5)\n",
    "        \n",
    "        # Output layers\n",
    "        self.fc_cat = nn.Linear(embedding_dim, 26)\n",
    "        self.fc_cont = nn.Linear(embedding_dim, 3)\n",
    "\n",
    "    def forward(self, x_context, x_body, return_embeddings=False):\n",
    "        # Process context features (text)\n",
    "        context_features = x_context.view(-1, self.context_features)\n",
    "        text_embedding = self.text_fc(context_features)\n",
    "        text_embedding = self.text_bn(text_embedding)\n",
    "        text_embedding = self.text_relu(text_embedding)\n",
    "        \n",
    "        # Process body features (image)\n",
    "        body_features = x_body.view(-1, self.body_features)\n",
    "        img_embedding = self.img_fc(body_features)\n",
    "        img_embedding = self.img_bn(img_embedding)\n",
    "        img_embedding = self.img_relu(img_embedding)\n",
    "        \n",
    "        # Combine embeddings\n",
    "        combined = torch.cat((text_embedding, img_embedding), dim=1)\n",
    "        fused = self.fusion(combined)\n",
    "        fused = self.fusion_bn(fused)\n",
    "        fused = self.fusion_relu(fused)\n",
    "        fused = self.dropout(fused)\n",
    "        \n",
    "        # Output predictions\n",
    "        cat_out = self.fc_cat(fused)\n",
    "        cont_out = self.fc_cont(fused)\n",
    "        \n",
    "        if return_embeddings:\n",
    "            return cat_out, cont_out, text_embedding, img_embedding\n",
    "        return cat_out, cont_out"
   ]
  },
  {
   "cell_type": "markdown",
   "metadata": {},
   "source": [
    "## Emotic Dataset"
   ]
  },
  {
   "cell_type": "code",
   "execution_count": 5,
   "metadata": {},
   "outputs": [
    {
     "name": "stdout",
     "output_type": "stream",
     "text": [
      "completed cell\n"
     ]
    }
   ],
   "source": [
    "class Emotic_PreDataset(Dataset):\n",
    "  ''' Custom Emotic dataset class. Use preprocessed data stored in npy files. '''\n",
    "  def __init__(self, x_context, x_body, y_cat, y_cont, transform, context_norm, body_norm):\n",
    "    super(Emotic_PreDataset,self).__init__()\n",
    "    self.x_context = x_context\n",
    "    self.x_body = x_body\n",
    "    self.y_cat = y_cat \n",
    "    self.y_cont = y_cont\n",
    "    self.transform = transform \n",
    "    self.context_norm = transforms.Normalize(context_norm[0], context_norm[1])  # Normalizing the context image with context mean and context std\n",
    "    self.body_norm = transforms.Normalize(body_norm[0], body_norm[1])           # Normalizing the body image with body mean and body std\n",
    "\n",
    "  def __len__(self):\n",
    "    return len(self.y_cat)\n",
    "  \n",
    "  def __getitem__(self, index):\n",
    "    image_context = self.x_context[index]\n",
    "    image_body = self.x_body[index]\n",
    "    cat_label = self.y_cat[index]\n",
    "    cont_label = self.y_cont[index]\n",
    "    return self.context_norm(self.transform(image_context)), self.body_norm(self.transform(image_body)), torch.tensor(cat_label, dtype=torch.float32), torch.tensor(cont_label, dtype=torch.float32)/10.0\n",
    "\n",
    "print ('completed cell')"
   ]
  },
  {
   "cell_type": "markdown",
   "metadata": {},
   "source": [
    "## Emotic Losses"
   ]
  },
  {
   "cell_type": "code",
   "execution_count": 6,
   "metadata": {},
   "outputs": [
    {
     "name": "stdout",
     "output_type": "stream",
     "text": [
      "completed cell\n"
     ]
    }
   ],
   "source": [
    "class DiscreteLoss(nn.Module):\n",
    "  ''' Class to measure loss between categorical emotion predictions and labels.'''\n",
    "  def __init__(self, weight_type='mean', device=torch.device('cpu')):\n",
    "    super(DiscreteLoss, self).__init__()\n",
    "    self.weight_type = weight_type\n",
    "    self.device = device\n",
    "    if self.weight_type == 'mean':\n",
    "      self.weights = torch.ones((1,26))/26.0\n",
    "      self.weights = self.weights.to(self.device)\n",
    "    elif self.weight_type == 'static':\n",
    "      self.weights = torch.FloatTensor([0.1435, 0.1870, 0.1692, 0.1165, 0.1949, 0.1204, 0.1728, 0.1372, 0.1620,\n",
    "         0.1540, 0.1987, 0.1057, 0.1482, 0.1192, 0.1590, 0.1929, 0.1158, 0.1907,\n",
    "         0.1345, 0.1307, 0.1665, 0.1698, 0.1797, 0.1657, 0.1520, 0.1537]).unsqueeze(0)\n",
    "      self.weights = self.weights.to(self.device)\n",
    "    \n",
    "  def forward(self, pred, target):\n",
    "    if self.weight_type == 'dynamic':\n",
    "      self.weights = self.prepare_dynamic_weights(target)\n",
    "      self.weights = self.weights.to(self.device)\n",
    "    loss = (((pred - target)**2) * self.weights)\n",
    "    return loss.sum() \n",
    "\n",
    "  def prepare_dynamic_weights(self, target):\n",
    "    target_stats = torch.sum(target, dim=0).float().unsqueeze(dim=0).cpu()\n",
    "    weights = torch.zeros((1,26))\n",
    "    weights[target_stats != 0 ] = 1.0/torch.log(target_stats[target_stats != 0].data + 1.2)\n",
    "    weights[target_stats == 0] = 0.0001\n",
    "    return weights\n",
    "\n",
    "\n",
    "class ContinuousLoss_L2(nn.Module):\n",
    "  ''' Class to measure loss between continuous emotion dimension predictions and labels. Using l2 loss as base. '''\n",
    "  def __init__(self, margin=1):\n",
    "    super(ContinuousLoss_L2, self).__init__()\n",
    "    self.margin = margin\n",
    "  \n",
    "  def forward(self, pred, target):\n",
    "    labs = torch.abs(pred - target)\n",
    "    loss = labs ** 2 \n",
    "    loss[ (labs < self.margin) ] = 0.0\n",
    "    return loss.sum()\n",
    "\n",
    "\n",
    "class ContinuousLoss_SL1(nn.Module):\n",
    "  ''' Class to measure loss between continuous emotion dimension predictions and labels. Using smooth l1 loss as base. '''\n",
    "  def __init__(self, margin=1):\n",
    "    super(ContinuousLoss_SL1, self).__init__()\n",
    "    self.margin = margin\n",
    "  \n",
    "  def forward(self, pred, target):\n",
    "    labs = torch.abs(pred - target)\n",
    "    loss = 0.5 * (labs ** 2)\n",
    "    loss[ (labs > self.margin) ] = labs[ (labs > self.margin) ] - 0.5\n",
    "    return loss.sum()\n",
    "\n",
    "print ('completed cell')"
   ]
  },
  {
   "cell_type": "markdown",
   "metadata": {},
   "source": [
    "# III. Load preprocessed data"
   ]
  },
  {
   "cell_type": "code",
   "execution_count": 7,
   "metadata": {},
   "outputs": [
    {
     "name": "stdout",
     "output_type": "stream",
     "text": [
      "train  context  (23266, 224, 224, 3) body (23266, 128, 128, 3) cat  (23266, 26) cont (23266, 3)\n",
      "val  context  (3315, 224, 224, 3) body (3315, 128, 128, 3) cat  (3315, 26) cont (3315, 3)\n",
      "test  context  (7203, 224, 224, 3) body (7203, 128, 128, 3) cat  (7203, 26) cont (7203, 3)\n",
      "completed cell\n"
     ]
    }
   ],
   "source": [
    "# Change data_src variable as per your drive\n",
    "data_src = 'D:/Ruturaj/New folder (3)/Ruturaj/Smart Systems/MANAV Experiment/proj/data/emotic19/emotic_pre'\n",
    "\n",
    "# Load training preprocessed data\n",
    "train_context = np.load(os.path.join(data_src,'train_context_arr.npy'))\n",
    "train_body = np.load(os.path.join(data_src,'train_body_arr.npy'))\n",
    "train_cat = np.load(os.path.join(data_src,'train_cat_arr.npy'))\n",
    "train_cont = np.load(os.path.join(data_src,'train_cont_arr.npy'))\n",
    "\n",
    "# Load validation preprocessed data\n",
    "val_context = np.load(os.path.join(data_src,'val_context_arr.npy'))\n",
    "val_body = np.load(os.path.join(data_src,'val_body_arr.npy'))\n",
    "val_cat = np.load(os.path.join(data_src,'val_cat_arr.npy'))\n",
    "val_cont = np.load(os.path.join(data_src,'val_cont_arr.npy'))\n",
    "\n",
    "# Load testing preprocessed data\n",
    "test_context = np.load(os.path.join(data_src,'test_context_arr.npy'))\n",
    "test_body = np.load(os.path.join(data_src,'test_body_arr.npy'))\n",
    "test_cat = np.load(os.path.join(data_src,'test_cat_arr.npy'))\n",
    "test_cont = np.load(os.path.join(data_src,'test_cont_arr.npy'))\n",
    "\n",
    "# Categorical emotion classes\n",
    "cat = ['Affection', 'Anger', 'Annoyance', 'Anticipation', 'Aversion', 'Confidence', 'Disapproval', 'Disconnection',\n",
    "       'Disquietment', 'Doubt/Confusion', 'Embarrassment', 'Engagement', 'Esteem', 'Excitement', 'Fatigue', 'Fear',\n",
    "       'Happiness', 'Pain', 'Peace', 'Pleasure', 'Sadness', 'Sensitivity', 'Suffering', 'Surprise', 'Sympathy', 'Yearning']\n",
    "\n",
    "cat2ind = {}\n",
    "ind2cat = {}\n",
    "for idx, emotion in enumerate(cat):\n",
    "    cat2ind[emotion] = idx\n",
    "    ind2cat[idx] = emotion\n",
    "\n",
    "print('train ', 'context ', train_context.shape, 'body', train_body.shape, 'cat ', train_cat.shape, 'cont', train_cont.shape)\n",
    "print('val ', 'context ', val_context.shape, 'body', val_body.shape, 'cat ', val_cat.shape, 'cont', val_cont.shape)\n",
    "print('test ', 'context ', test_context.shape, 'body', test_body.shape, 'cat ', test_cat.shape, 'cont', test_cont.shape)\n",
    "print('completed cell')"
   ]
  },
  {
   "cell_type": "code",
   "execution_count": 8,
   "metadata": {},
   "outputs": [
    {
     "name": "stdout",
     "output_type": "stream",
     "text": [
      "train loader  894 val loader  128 test 278\n",
      "completed cell\n"
     ]
    }
   ],
   "source": [
    "batch_size = 26\n",
    "\n",
    "context_mean = [0.4690646, 0.4407227, 0.40508908]\n",
    "context_std = [0.2514227, 0.24312855, 0.24266963]\n",
    "body_mean = [0.43832874, 0.3964344, 0.3706214]\n",
    "body_std = [0.24784276, 0.23621225, 0.2323653]\n",
    "context_norm = [context_mean, context_std]\n",
    "body_norm = [body_mean, body_std]\n",
    "\n",
    "train_transform = transforms.Compose([transforms.ToPILImage(),\n",
    "                                      transforms.RandomHorizontalFlip(),\n",
    "                                      transforms.ColorJitter(brightness=0.4, contrast=0.4, saturation=0.4),\n",
    "                                      transforms.ToTensor()])\n",
    "test_transform = transforms.Compose([transforms.ToPILImage(),\n",
    "                                     transforms.ToTensor()])\n",
    "\n",
    "train_dataset = Emotic_PreDataset(train_context, train_body, train_cat, train_cont,\n",
    "                                  train_transform, context_norm, body_norm)\n",
    "val_dataset = Emotic_PreDataset(val_context, val_body, val_cat, val_cont,\n",
    "                                test_transform, context_norm, body_norm)\n",
    "test_dataset = Emotic_PreDataset(test_context, test_body, test_cat, test_cont,\n",
    "                                 test_transform, context_norm, body_norm)\n",
    "\n",
    "train_loader = DataLoader(train_dataset, batch_size, shuffle=True, drop_last=True)\n",
    "val_loader = DataLoader(val_dataset, batch_size, shuffle=False)\n",
    "test_loader = DataLoader(test_dataset, batch_size, shuffle=False)\n",
    "\n",
    "print('train loader ', len(train_loader), 'val loader ', len(val_loader), 'test', len(test_loader))\n",
    "print('completed cell')"
   ]
  },
  {
   "cell_type": "markdown",
   "metadata": {},
   "source": [
    "# IV. Prepare emotic model"
   ]
  },
  {
   "cell_type": "code",
   "execution_count": 9,
   "metadata": {},
   "outputs": [
    {
     "name": "stderr",
     "output_type": "stream",
     "text": [
      "c:\\Users\\admin\\anaconda3\\Lib\\site-packages\\torchvision\\models\\_utils.py:208: UserWarning: The parameter 'pretrained' is deprecated since 0.13 and may be removed in the future, please use 'weights' instead.\n",
      "  warnings.warn(\n",
      "c:\\Users\\admin\\anaconda3\\Lib\\site-packages\\torchvision\\models\\_utils.py:223: UserWarning: Arguments other than a weight enum or `None` for 'weights' are deprecated since 0.13 and may be removed in the future. The current behavior is equivalent to passing `weights=ResNet18_Weights.IMAGENET1K_V1`. You can also use `weights=ResNet18_Weights.DEFAULT` to get the most up-to-date weights.\n",
      "  warnings.warn(msg)\n"
     ]
    },
    {
     "name": "stdout",
     "output_type": "stream",
     "text": [
      "completed cell\n"
     ]
    }
   ],
   "source": [
    "model_path_places = './places'\n",
    "\n",
    "model_context = models.__dict__[arch](num_classes=365)\n",
    "context_state_dict = torch.load(os.path.join(model_path_places, 'resnet18_state_dict.pth'))\n",
    "model_context.load_state_dict(context_state_dict)\n",
    "\n",
    "model_body = models.resnet18(pretrained=True)\n",
    "\n",
    "# Create the new model with separate embeddings\n",
    "emotic_model = EmoticSeparateEmbeddings(\n",
    "    list(model_context.children())[-1].in_features, \n",
    "    list(model_body.children())[-1].in_features,\n",
    "    embedding_dim=256\n",
    ")\n",
    "\n",
    "model_context = nn.Sequential(*(list(model_context.children())[:-1]))\n",
    "model_body = nn.Sequential(*(list(model_body.children())[:-1]))\n",
    "\n",
    "# print (summary(model_context, (3,224,224), device=\"cpu\"))\n",
    "# print (summary(model_body, (3,128,128), device=\"cpu\"))\n",
    "\n",
    "print ('completed cell')"
   ]
  },
  {
   "cell_type": "markdown",
   "metadata": {},
   "source": [
    "## Prepare optimizer"
   ]
  },
  {
   "cell_type": "code",
   "execution_count": 10,
   "metadata": {},
   "outputs": [
    {
     "name": "stdout",
     "output_type": "stream",
     "text": [
      "completed cell\n"
     ]
    }
   ],
   "source": [
    "for param in emotic_model.parameters():\n",
    "  param.requires_grad = True\n",
    "for param in model_context.parameters():\n",
    "  param.requires_grad = False\n",
    "for param in model_body.parameters():\n",
    "  param.requires_grad = False\n",
    "\n",
    "device = torch.device(\"cuda:0\" if torch.cuda.is_available() else \"cpu\")\n",
    "opt = optim.Adam((list(emotic_model.parameters()) + list(model_context.parameters()) + \\\n",
    "                  list(model_body.parameters())), lr=0.001, weight_decay=5e-4)\n",
    "scheduler = StepLR(opt, step_size=7, gamma=0.1)\n",
    "\n",
    "disc_loss = DiscreteLoss('dynamic', device)\n",
    "cont_loss_SL1 = ContinuousLoss_SL1()\n",
    "\n",
    "print ('completed cell')"
   ]
  },
  {
   "cell_type": "markdown",
   "metadata": {},
   "source": [
    "# V. Train model"
   ]
  },
  {
   "cell_type": "code",
   "execution_count": 11,
   "metadata": {},
   "outputs": [],
   "source": [
    "def train_emotic(epochs, model_path, opt, scheduler, models, disc_loss, cont_loss, cat_loss_param=0.5, cont_loss_param=0.5):\n",
    "    if not os.path.exists(model_path):\n",
    "        os.makedirs(model_path)\n",
    "    \n",
    "    min_loss = np.inf\n",
    "    train_loss = list()\n",
    "    val_loss = list()\n",
    "\n",
    "    model_context, model_body, emotic_model = models\n",
    "\n",
    "    for e in range(epochs):\n",
    "        running_loss = 0.0\n",
    "\n",
    "        emotic_model.to(device)\n",
    "        model_context.to(device)\n",
    "        model_body.to(device)\n",
    "        \n",
    "        emotic_model.train()\n",
    "        model_context.train()\n",
    "        model_body.train()\n",
    "        \n",
    "        for images_context, images_body, labels_cat, labels_cont in iter(train_loader):\n",
    "            images_context = images_context.to(device)\n",
    "            images_body = images_body.to(device)\n",
    "            labels_cat = labels_cat.to(device)\n",
    "            labels_cont = labels_cont.to(device)\n",
    "\n",
    "            opt.zero_grad()\n",
    "\n",
    "            pred_context = model_context(images_context)\n",
    "            pred_body = model_body(images_body)\n",
    "\n",
    "            # For the new model that returns embeddings\n",
    "            if hasattr(emotic_model, 'return_embeddings'):\n",
    "                pred_cat, pred_cont, _, _ = emotic_model(pred_context, pred_body, return_embeddings=True)\n",
    "            else:\n",
    "                pred_cat, pred_cont = emotic_model(pred_context, pred_body)\n",
    "                \n",
    "            cat_loss_batch = disc_loss(pred_cat, labels_cat)\n",
    "            cont_loss_batch = cont_loss(pred_cont * 10, labels_cont * 10)\n",
    "            loss = (cat_loss_param * cat_loss_batch) + (cont_loss_param * cont_loss_batch)\n",
    "            running_loss += loss.item()\n",
    "            loss.backward()\n",
    "            opt.step()\n",
    "\n",
    "        if e % 1 == 0: \n",
    "            print(f'epoch = {e} training loss = {running_loss:.4f}')\n",
    "        train_loss.append(running_loss)\n",
    "\n",
    "        \n",
    "        running_loss = 0.0 \n",
    "        emotic_model.eval()\n",
    "        model_context.eval()\n",
    "        model_body.eval()\n",
    "        \n",
    "        with torch.no_grad():\n",
    "            for images_context, images_body, labels_cat, labels_cont in iter(val_loader):\n",
    "                images_context = images_context.to(device)\n",
    "                images_body = images_body.to(device)\n",
    "                labels_cat = labels_cat.to(device)\n",
    "                labels_cont = labels_cont.to(device)\n",
    "\n",
    "                pred_context = model_context(images_context)\n",
    "                pred_body = model_body(images_body)\n",
    "                \n",
    "                # For the new model that returns embeddings\n",
    "                if hasattr(emotic_model, 'return_embeddings'):\n",
    "                    pred_cat, pred_cont, _, _ = emotic_model(pred_context, pred_body, return_embeddings=True)\n",
    "                else:\n",
    "                    pred_cat, pred_cont = emotic_model(pred_context, pred_body)\n",
    "                    \n",
    "                cat_loss_batch = disc_loss(pred_cat, labels_cat)\n",
    "                cont_loss_batch = cont_loss(pred_cont * 10, labels_cont * 10)\n",
    "                loss = (cat_loss_param * cat_loss_batch) + (cont_loss_param * cont_loss_batch)\n",
    "                running_loss += loss.item()\n",
    "\n",
    "            if e % 1 == 0:\n",
    "                print(f'epoch = {e} validation loss = {running_loss:.4f}')\n",
    "        val_loss.append(running_loss)\n",
    "          \n",
    "        scheduler.step()\n",
    "\n",
    "        if val_loss[-1] < min_loss:\n",
    "            min_loss = val_loss[-1]\n",
    "            # saving models for lowest loss\n",
    "            print(f'saving model at epoch e = {e}')\n",
    "            emotic_model.to(\"cpu\")\n",
    "            model_context.to(\"cpu\")\n",
    "            model_body.to(\"cpu\")\n",
    "            torch.save(emotic_model, os.path.join(model_path, 'model_emotic1.pth'))\n",
    "            torch.save(model_context, os.path.join(model_path, 'model_context1.pth'))\n",
    "            torch.save(model_body, os.path.join(model_path, 'model_body1.pth'))\n",
    "\n",
    "    print('completed training')\n",
    "    \n",
    "    f, (ax1, ax2) = plt.subplots(1, 2, figsize=(6, 6))\n",
    "    f.suptitle('emotic')\n",
    "    ax1.plot(range(0, len(train_loss)), train_loss, color='Blue')\n",
    "    ax2.plot(range(0, len(val_loss)), val_loss, color='Red')\n",
    "    ax1.legend(['train'])\n",
    "    ax2.legend(['val'])\n",
    "    plt.savefig(os.path.join(model_path, 'loss_curves.png'))"
   ]
  },
  {
   "cell_type": "code",
   "execution_count": 12,
   "metadata": {},
   "outputs": [
    {
     "name": "stdout",
     "output_type": "stream",
     "text": [
      "epoch = 0 training loss = 62931.6640\n",
      "epoch = 0 validation loss = 6154.2493\n",
      "saving model at epoch e = 0\n",
      "epoch = 1 training loss = 47485.1382\n",
      "epoch = 1 validation loss = 5994.3333\n",
      "saving model at epoch e = 1\n",
      "epoch = 2 training loss = 45631.0784\n",
      "epoch = 2 validation loss = 5890.7401\n",
      "saving model at epoch e = 2\n",
      "epoch = 3 training loss = 44194.2819\n",
      "epoch = 3 validation loss = 5724.4397\n",
      "saving model at epoch e = 3\n",
      "epoch = 4 training loss = 43156.0935\n",
      "epoch = 4 validation loss = 5508.8069\n",
      "saving model at epoch e = 4\n",
      "epoch = 5 training loss = 42421.6583\n",
      "epoch = 5 validation loss = 5620.4047\n",
      "epoch = 6 training loss = 42220.4918\n",
      "epoch = 6 validation loss = 5613.6463\n",
      "epoch = 7 training loss = 41317.2901\n",
      "epoch = 7 validation loss = 5511.5631\n",
      "epoch = 8 training loss = 40902.0355\n",
      "epoch = 8 validation loss = 5539.2129\n",
      "epoch = 9 training loss = 40700.9644\n",
      "epoch = 9 validation loss = 5496.2922\n",
      "saving model at epoch e = 9\n",
      "epoch = 10 training loss = 40539.7864\n",
      "epoch = 10 validation loss = 5519.0454\n",
      "epoch = 11 training loss = 40267.7612\n",
      "epoch = 11 validation loss = 5538.0672\n",
      "epoch = 12 training loss = 40229.5842\n",
      "epoch = 12 validation loss = 5584.5433\n",
      "epoch = 13 training loss = 39912.1408\n",
      "epoch = 13 validation loss = 5585.9280\n",
      "epoch = 14 training loss = 39805.3610\n",
      "epoch = 14 validation loss = 5588.0491\n",
      "completed training\n"
     ]
    },
    {
     "data": {
      "image/png": "[encoded data removed]",
      "text/plain": [
       "<Figure size 600x600 with 2 Axes>"
      ]
     },
     "metadata": {},
     "output_type": "display_data"
    }
   ],
   "source": [
    "train_emotic(15, './models', opt, scheduler, [model_context, model_body, emotic_model], disc_loss, cont_loss_SL1)"
   ]
  },
  {
   "cell_type": "markdown",
   "metadata": {},
   "source": [
    "# VI. Test model"
   ]
  },
  {
   "cell_type": "code",
   "execution_count": 13,
   "metadata": {},
   "outputs": [
    {
     "name": "stdout",
     "output_type": "stream",
     "text": [
      "completed cell\n"
     ]
    }
   ],
   "source": [
    "def test_scikit_ap(cat_preds, cat_labels):\n",
    "    ap = np.zeros(26, dtype=np.float32)\n",
    "    for i in range(26):\n",
    "        ap[i] = average_precision_score(cat_labels[i, :], cat_preds[i, :])\n",
    "    print('ap', ap, ap.shape, ap.mean())\n",
    "    return ap.mean()\n",
    "\n",
    "\n",
    "def test_emotic_vad(cont_preds, cont_labels):\n",
    "    vad = np.zeros(3, dtype=np.float32)\n",
    "    for i in range(3):\n",
    "        vad[i] = np.mean(np.abs(cont_preds[i, :] - cont_labels[i, :]))\n",
    "    print('vad', vad, vad.shape, vad.mean())\n",
    "    return vad.mean()\n",
    "\n",
    "\n",
    "def get_thresholds(cat_preds, cat_labels):\n",
    "    thresholds = np.zeros(26, dtype=np.float32)\n",
    "    for i in range(26):\n",
    "        p, r, t = precision_recall_curve(cat_labels[i, :], cat_preds[i, :])\n",
    "        for k in range(len(p)):\n",
    "            if p[k] == r[k]:\n",
    "                thresholds[i] = t[k]\n",
    "                break\n",
    "    np.save('./thresholds.npy', thresholds)\n",
    "    return thresholds\n",
    "\n",
    "print ('completed cell')"
   ]
  },
  {
   "cell_type": "code",
   "execution_count": 14,
   "metadata": {},
   "outputs": [
    {
     "name": "stdout",
     "output_type": "stream",
     "text": [
      "completed cell\n"
     ]
    }
   ],
   "source": [
    "def test_data(models, device, data_loader, num_images):\n",
    "    model_context, model_body, emotic_model = models\n",
    "    cat_preds = np.zeros((num_images, 26))\n",
    "    cat_labels = np.zeros((num_images, 26))\n",
    "    cont_preds = np.zeros((num_images, 3))\n",
    "    cont_labels = np.zeros((num_images, 3))\n",
    "\n",
    "    with torch.no_grad():\n",
    "        model_context.to(device)\n",
    "        model_body.to(device)\n",
    "        emotic_model.to(device)\n",
    "        model_context.eval()\n",
    "        model_body.eval()\n",
    "        emotic_model.eval()\n",
    "        indx = 0\n",
    "        print('starting testing')\n",
    "        for images_context, images_body, labels_cat, labels_cont in iter(data_loader):\n",
    "            images_context = images_context.to(device)\n",
    "            images_body = images_body.to(device)\n",
    "\n",
    "            pred_context = model_context(images_context)\n",
    "            pred_body = model_body(images_body)\n",
    "            \n",
    "            # For the new model that returns embeddings\n",
    "            if hasattr(emotic_model, 'return_embeddings'):\n",
    "                pred_cat, pred_cont, _, _ = emotic_model(pred_context, pred_body, return_embeddings=True)\n",
    "            else:\n",
    "                pred_cat, pred_cont = emotic_model(pred_context, pred_body)\n",
    "\n",
    "            cat_preds[indx : (indx + pred_cat.shape[0]), :] = pred_cat.to(\"cpu\").data.numpy()\n",
    "            cat_labels[indx : (indx + labels_cat.shape[0]), :] = labels_cat.to(\"cpu\").data.numpy()\n",
    "            cont_preds[indx : (indx + pred_cont.shape[0]), :] = pred_cont.to(\"cpu\").data.numpy() * 10\n",
    "            cont_labels[indx : (indx + labels_cont.shape[0]), :] = labels_cont.to(\"cpu\").data.numpy() * 10 \n",
    "            indx = indx + pred_cat.shape[0]\n",
    "\n",
    "    cat_preds = cat_preds.transpose()\n",
    "    cat_labels = cat_labels.transpose()\n",
    "    cont_preds = cont_preds.transpose()\n",
    "    cont_labels = cont_labels.transpose()\n",
    "    scipy.io.savemat('./cat_preds.mat', mdict={'cat_preds': cat_preds})\n",
    "    scipy.io.savemat('./cat_labels.mat', mdict={'cat_labels': cat_labels})\n",
    "    scipy.io.savemat('./cont_preds.mat', mdict={'cont_preds': cont_preds})\n",
    "    scipy.io.savemat('./cont_labels.mat', mdict={'cont_labels': cont_labels})\n",
    "    print('completed testing')\n",
    "    ap_mean = test_scikit_ap(cat_preds, cat_labels)\n",
    "    vad_mean = test_emotic_vad(cont_preds, cont_labels)\n",
    "    print(ap_mean, vad_mean)\n",
    "    return ap_mean, vad_mean\n",
    "\n",
    "print ('completed cell')"
   ]
  },
  {
   "cell_type": "markdown",
   "metadata": {},
   "source": [
    "# VII. Embedding Space Analysis"
   ]
  },
  {
   "cell_type": "code",
   "execution_count": 31,
   "metadata": {},
   "outputs": [],
   "source": [
    "def test_embedding_spaces(models, device, data_loader, num_samples=1000):\n",
    "    \"\"\"Test the model and analyze the embedding spaces\"\"\"\n",
    "    model_context, model_body, emotic_model = models\n",
    "    \n",
    "    # Storage for embeddings and predictions\n",
    "    text_embeddings = []\n",
    "    img_embeddings = []\n",
    "    predictions = []\n",
    "    true_labels = []\n",
    "    \n",
    "    with torch.no_grad():\n",
    "        model_context.to(device)\n",
    "        model_body.to(device)\n",
    "        emotic_model.to(device)\n",
    "        model_context.eval()\n",
    "        model_body.eval()\n",
    "        emotic_model.eval()\n",
    "        \n",
    "        count = 0\n",
    "        for images_context, images_body, labels_cat, labels_cont in iter(data_loader):\n",
    "            if count >= num_samples:\n",
    "                break\n",
    "                \n",
    "            images_context = images_context.to(device)\n",
    "            images_body = images_body.to(device)\n",
    "            \n",
    "            # Extract features\n",
    "            pred_context = model_context(images_context)\n",
    "            pred_body = model_body(images_body)\n",
    "            \n",
    "            # Store the raw feature embeddings\n",
    "            text_embeddings.append(pred_context.view(pred_context.size(0), -1).cpu().numpy())\n",
    "            img_embeddings.append(pred_body.view(pred_body.size(0), -1).cpu().numpy())\n",
    "            \n",
    "            # Get predictions\n",
    "            pred_cat, pred_cont = emotic_model(pred_context, pred_body)\n",
    "            \n",
    "            # Store predictions and labels\n",
    "            predictions.append(pred_cat.cpu().numpy())\n",
    "            true_labels.append(labels_cat.cpu().numpy())\n",
    "            \n",
    "            count += images_context.size(0)\n",
    "    \n",
    "    # Concatenate results\n",
    "    text_embeddings = np.vstack(text_embeddings)\n",
    "    img_embeddings = np.vstack(img_embeddings)\n",
    "    predictions = np.vstack(predictions)\n",
    "    true_labels = np.vstack(true_labels)\n",
    "    \n",
    "    return text_embeddings, img_embeddings, predictions, true_labels"
   ]
  },
  {
   "cell_type": "code",
   "execution_count": null,
   "metadata": {},
   "outputs": [],
   "source": [
    "def analyze_embedding_robustness(text_emb, img_emb, predictions, labels):\n",
    "    \"\"\"Analyze the robustness of the embedding spaces\"\"\"\n",
    "    \n",
    "    # 1. Visualize embeddings with t-SNE\n",
    "    from sklearn.manifold import TSNE\n",
    "    \n",
    "    # Reduce dimensionality for visualization\n",
    "    tsne = TSNE(n_components=2, random_state=42)\n",
    "    text_tsne = tsne.fit_transform(text_emb[:500])  # Using subset for speed\n",
    "    \n",
    "    tsne = TSNE(n_components=2, random_state=42)\n",
    "    img_tsne = tsne.fit_transform(img_emb[:500])  # Using subset for speed\n",
    "    \n",
    "    # Plot embeddings\n",
    "    plt.figure(figsize=(12, 5))\n",
    "    \n",
    "    plt.subplot(1, 2, 1)\n",
    "    plt.scatter(text_tsne[:, 0], text_tsne[:, 1], alpha=0.5)\n",
    "    plt.title('Text Embedding Space')\n",
    "    \n",
    "    plt.subplot(1, 2, 2)\n",
    "    plt.scatter(img_tsne[:, 0], img_tsne[:, 1], alpha=0.5)\n",
    "    plt.title('Image Embedding Space')\n",
    "    \n",
    "    plt.tight_layout()\n",
    "    plt.savefig('embedding_spaces.png')\n",
    "    \n",
    "    # 2. Calculate embedding space statistics\n",
    "    text_variance = np.var(text_emb, axis=0).mean()\n",
    "    img_variance = np.var(img_emb, axis=0).mean()\n",
    "    \n",
    "    # 3. Measure cosine similarity within each embedding space\n",
    "    from sklearn.metrics.pairwise import cosine_similarity\n",
    "    \n",
    "    # Sample a subset for efficiency\n",
    "    sample_size = min(500, text_emb.shape[0])\n",
    "    text_sample = text_emb[:sample_size]\n",
    "    img_sample = img_emb[:sample_size]\n",
    "    \n",
    "    text_sim = cosine_similarity(text_sample)\n",
    "    img_sim = cosine_similarity(img_sample)\n",
    "    \n",
    "    # Average similarity (excluding self-similarity)\n",
    "    text_avg_sim = (text_sim.sum() - text_sim.trace()) / (text_sim.size - text_sim.shape[0])\n",
    "    img_avg_sim = (img_sim.sum() - img_sim.trace()) / (img_sim.size - img_sim.shape[0])\n",
    "    \n",
    "    # 4. Calculate feature importance\n",
    "    # We'll use a simple correlation analysis between features and predictions\n",
    "    from scipy.stats import pearsonr\n",
    "    \n",
    "    # For each emotion category, find most correlated features\n",
    "    text_importance = np.zeros(text_emb.shape[1])\n",
    "    img_importance = np.zeros(img_emb.shape[1])\n",
    "    \n",
    "    # Use first emotion category for simplicity\n",
    "    for i in range(min(5, predictions.shape[1])):  # First 5 emotions\n",
    "        for j in range(text_emb.shape[1]):\n",
    "            corr, _ = pearsonr(text_emb[:, j], predictions[:, i])\n",
    "            text_importance[j] += abs(corr)\n",
    "            \n",
    "        for j in range(img_emb.shape[1]):\n",
    "            corr, _ = pearsonr(img_emb[:, j], predictions[:, i])\n",
    "            img_importance[j] += abs(corr)\n",
    "    \n",
    "    # Normalize\n",
    "    text_importance /= 5\n",
    "    img_importance /= 5\n",
    "    \n",
    "    # Top important features\n",
    "    text_top_features = np.argsort(text_importance)[-10:]\n",
    "    img_top_features = np.argsort(img_importance)[-10:]\n",
    "    \n",
    "    results = {\n",
    "        \"text_embedding_variance\": text_variance,\n",
    "        \"image_embedding_variance\": img_variance,\n",
    "        \"text_avg_similarity\": text_avg_sim,\n",
    "        \"image_avg_similarity\": img_avg_sim,\n",
    "        \"text_top_features\": text_top_features,\n",
    "        \"img_top_features\": img_top_features,\n",
    "        \"text_importance\": text_importance,  \n",
    "        \"img_importance\": img_importance,\n",
    "        \"text_tsne\": text_tsne,  # Add these two lines\n",
    "        \"img_tsne\": img_tsne\n",
    "    }\n",
    "    \n",
    "    return results"
   ]
  },
  {
   "cell_type": "markdown",
   "metadata": {},
   "source": [
    "# VIII. Run the analysis"
   ]
  },
  {
   "cell_type": "markdown",
   "metadata": {},
   "source": [
    "Purpose: Loads pre-trained models and evaluates their performance on validation and test sets.\n",
    "\n",
    "Essential for loading models and establishing baseline performance.\n",
    "\n",
    "Summary: This section loads the three model components (context encoder, body encoder, and fusion model) and evaluates them on validation and test datasets, reporting Mean Average Precision (for categorical emotions) and Mean VAD MAE (for continuous dimensions)."
   ]
  },
  {
   "cell_type": "code",
   "execution_count": 34,
   "metadata": {},
   "outputs": [
    {
     "name": "stdout",
     "output_type": "stream",
     "text": [
      "Loading trained models\n"
     ]
    }
   ],
   "source": [
    "print('Loading trained models')\n",
    "model_context = torch.load('./models/model_context1.pth', weights_only=False)\n",
    "model_body = torch.load('./models/model_body1.pth', weights_only=False)\n",
    "emotic_model = torch.load('./models/model_emotic1.pth', weights_only=False)"
   ]
  },
  {
   "cell_type": "code",
   "execution_count": 35,
   "metadata": {},
   "outputs": [
    {
     "name": "stdout",
     "output_type": "stream",
     "text": [
      "Running baseline evaluation\n",
      "starting testing\n",
      "completed testing\n",
      "ap [0.38716793 0.17155817 0.22017029 0.95089984 0.1777658  0.7933602\n",
      " 0.23642102 0.371202   0.18806623 0.21772546 0.06170461 0.98100704\n",
      " 0.24395029 0.7999282  0.14686657 0.09492898 0.8141162  0.17229061\n",
      " 0.30264604 0.5006716  0.21056859 0.07694612 0.20226675 0.13953406\n",
      " 0.33337444 0.11593357] (26,) 0.3427335\n",
      "vad [0.69755876 0.8630178  0.8667325 ] (3,) 0.809103\n",
      "0.3427335 0.809103\n",
      "starting testing\n",
      "completed testing\n",
      "ap [0.29371274 0.08971833 0.1392061  0.5633614  0.06743938 0.76185584\n",
      " 0.12433915 0.24160628 0.1664311  0.17625788 0.02066736 0.8675522\n",
      " 0.14988866 0.6963364  0.10359154 0.06570021 0.6689479  0.08354216\n",
      " 0.22003287 0.43330988 0.18531321 0.06526645 0.19962917 0.09242458\n",
      " 0.13611536 0.08410731] (26,) 0.2575521\n",
      "vad [0.8970982  1.0245683  0.94569486] (3,) 0.9557871\n",
      "0.2575521 0.9557871\n"
     ]
    }
   ],
   "source": [
    "print('Running baseline evaluation')\n",
    "val_ap, val_vad = test_data([model_context, model_body, emotic_model], device, val_loader, val_dataset.__len__())\n",
    "test_ap, test_vad = test_data([model_context, model_body, emotic_model], device, test_loader, test_dataset.__len__())"
   ]
  },
  {
   "cell_type": "code",
   "execution_count": 36,
   "metadata": {},
   "outputs": [
    {
     "name": "stdout",
     "output_type": "stream",
     "text": [
      "validation Mean average precision=0.3427 Mean VAD MAE=0.8091\n",
      "testing Mean average precision=0.2576 Mean VAD MAE=0.9558\n"
     ]
    }
   ],
   "source": [
    "print('validation Mean average precision=%.4f Mean VAD MAE=%.4f' % (val_ap, val_vad))\n",
    "print('testing Mean average precision=%.4f Mean VAD MAE=%.4f' % (test_ap, test_vad))"
   ]
  },
  {
   "cell_type": "markdown",
   "metadata": {},
   "source": [
    "Purpose: Extracts and analyzes embeddings from both modalities.\n",
    "\n",
    "Core analysis functionality.\n",
    "\n",
    "Summary: This section extracts embeddings from the text (context) and image (body) pathways for a subset of test samples, then analyzes these embeddings to understand their characteristics and relationship to predictions."
   ]
  },
  {
   "cell_type": "code",
   "execution_count": 37,
   "metadata": {},
   "outputs": [
    {
     "name": "stdout",
     "output_type": "stream",
     "text": [
      "Analyzing embedding spaces\n"
     ]
    }
   ],
   "source": [
    "# Analyze embedding spaces\n",
    "print('Analyzing embedding spaces')\n",
    "text_emb, img_emb, preds, labels = test_embedding_spaces(\n",
    "    [model_context, model_body, emotic_model], \n",
    "    device, \n",
    "    test_loader,\n",
    "    num_samples=500  # Limit samples for faster processing\n",
    ")\n"
   ]
  },
  {
   "cell_type": "code",
   "execution_count": 38,
   "metadata": {},
   "outputs": [
    {
     "name": "stdout",
     "output_type": "stream",
     "text": [
      "\n",
      "Embedding Space Statistics:\n",
      "text_embedding_variance: 0.28345757722854614\n",
      "image_embedding_variance: 1.1473037004470825\n",
      "text_avg_similarity: 0.4723\n",
      "image_avg_similarity: 0.4581\n",
      "text_top_features: [504 401 424 377 131 324 419 216 100 263]\n",
      "img_top_features: [378 193 341 209 147 495 375  57  49 408]\n",
      "text_importance: [0.1440275  0.17711218 0.13274597 0.0569513  0.09338592 0.06478797\n",
      " 0.03030022 0.02026831 0.1068759  0.12813484 0.16613662 0.06434155\n",
      " 0.10868311 0.04542344 0.03771133 0.19367029 0.17249584 0.12415984\n",
      " 0.0667154  0.06806224 0.02007113 0.05125328 0.14754786 0.05621235\n",
      " 0.09165518 0.07892591 0.10660165 0.15801049 0.05605795 0.04231455\n",
      " 0.13889693 0.19461941 0.04624416 0.06200099 0.08362516 0.10375197\n",
      " 0.11907777 0.22418672 0.25116244 0.06348539 0.06359402 0.13711827\n",
      " 0.06094918 0.09794416 0.23813553 0.06718473 0.05838642 0.23145655\n",
      " 0.10790767 0.11843635 0.12954913 0.07918236 0.11763942 0.07923332\n",
      " 0.12517788 0.038915   0.13108727 0.05472521 0.16017628 0.03027614\n",
      " 0.15165339 0.19414524 0.07781918 0.17816717 0.0841836  0.08295821\n",
      " 0.10360142 0.16376832 0.07600509 0.23254997 0.21810169 0.16044281\n",
      " 0.03189877 0.05788325 0.07112928 0.13152702 0.1884277  0.20305621\n",
      " 0.12428118 0.09215243 0.17002336 0.09497947 0.14350276 0.10815164\n",
      " 0.12430312 0.09895542 0.13486319 0.06858025 0.0563201  0.06624066\n",
      " 0.12932272 0.10165027 0.09132809 0.10146106 0.05266796 0.10635561\n",
      " 0.19293381 0.07998066 0.01541074 0.09993599 0.3679646  0.19169935\n",
      " 0.10930109 0.03022954 0.07135912 0.11715933 0.24983281 0.1161978\n",
      " 0.19395219 0.11310005 0.12374995 0.10853691 0.12228479 0.05572013\n",
      " 0.07443188 0.06974552 0.06291761 0.24501688 0.051153   0.09863281\n",
      " 0.10509778 0.13018208 0.0315701  0.11594586 0.14662827 0.09796099\n",
      " 0.06353097 0.05315408 0.15263146 0.09769558 0.11862078 0.33056022\n",
      " 0.08765461 0.06911341 0.05373608 0.05322872 0.04642605 0.12166661\n",
      " 0.12902538 0.0857532  0.05178497 0.09782154 0.20887207 0.16488398\n",
      " 0.04945768 0.17121337 0.10181702 0.06121504 0.1116563  0.09803281\n",
      " 0.03141787 0.1153731  0.09751501 0.07049583 0.07259971 0.11177671\n",
      " 0.10867539 0.11404184 0.049031   0.06217007 0.13990661 0.13656103\n",
      " 0.09265656 0.14657887 0.13301468 0.05440889 0.08231345 0.13214912\n",
      " 0.21290818 0.0150144  0.14860995 0.14467115 0.07378112 0.17176761\n",
      " 0.08403288 0.07765554 0.05864871 0.18269453 0.06404443 0.07826462\n",
      " 0.10411749 0.1170354  0.07802579 0.06880806 0.07949066 0.24583466\n",
      " 0.10130542 0.07328854 0.08595974 0.06909864 0.09200652 0.15713439\n",
      " 0.13506658 0.04854629 0.06114813 0.04164931 0.05674948 0.05932369\n",
      " 0.03097885 0.0440309  0.09769462 0.12404909 0.06574408 0.09540774\n",
      " 0.0788347  0.07015653 0.11827341 0.0667653  0.11466313 0.10433888\n",
      " 0.08868795 0.26013045 0.08098254 0.11249926 0.18609429 0.07384912\n",
      " 0.35815268 0.12815072 0.05281312 0.14359626 0.13932816 0.14278012\n",
      " 0.09197303 0.12813264 0.01476175 0.09185006 0.02425492 0.08186056\n",
      " 0.21448783 0.07975075 0.17511101 0.15809551 0.07200328 0.11585557\n",
      " 0.15414246 0.18866463 0.17129235 0.08953745 0.04030832 0.11696793\n",
      " 0.0832253  0.14821695 0.10584383 0.17760741 0.08051231 0.09521424\n",
      " 0.07706939 0.14728161 0.22646182 0.09264649 0.14831967 0.13047136\n",
      " 0.15798401 0.14209505 0.11854105 0.0741522  0.08610074 0.09348398\n",
      " 0.09887191 0.10004896 0.08266498 0.24931731 0.01550701 0.37038422\n",
      " 0.10572231 0.10252171 0.12497084 0.17823408 0.13409554 0.09944037\n",
      " 0.09429631 0.04247547 0.19694363 0.15162859 0.11100025 0.07090447\n",
      " 0.07477229 0.0714821  0.11589104 0.07266506 0.13563646 0.06915719\n",
      " 0.07726291 0.08002275 0.19749715 0.04658317 0.07314787 0.17120414\n",
      " 0.09246409 0.06932963 0.18201714 0.12972995 0.02053539 0.03448862\n",
      " 0.10379314 0.13075919 0.10838156 0.16661894 0.16640299 0.1200434\n",
      " 0.02665306 0.04048676 0.0485499  0.1158888  0.08396695 0.18942943\n",
      " 0.06380806 0.08387665 0.07921447 0.06368719 0.05333055 0.15167466\n",
      " 0.10332108 0.07530343 0.10047662 0.10266288 0.08493    0.06643993\n",
      " 0.02316409 0.15265159 0.0808338  0.05478407 0.20124226 0.1517541\n",
      " 0.33116835 0.24613522 0.04500798 0.1722714  0.05629791 0.05511714\n",
      " 0.27392835 0.12791479 0.15549683 0.02915564 0.1442411  0.13175202\n",
      " 0.06921675 0.06296553 0.06303057 0.07823817 0.10275085 0.1223864\n",
      " 0.11005236 0.26831752 0.03433787 0.10050135 0.11409955 0.10602332\n",
      " 0.07504469 0.07734161 0.04539981 0.14423807 0.16139577 0.06798817\n",
      " 0.0925374  0.06798386 0.09839275 0.0858217  0.10892552 0.23113269\n",
      " 0.04606339 0.06616484 0.07172429 0.02725869 0.0541991  0.17333024\n",
      " 0.0667744  0.01650047 0.0595217  0.13760017 0.06448152 0.06046587\n",
      " 0.05469676 0.18393404 0.13854102 0.24731676 0.09821202 0.31330445\n",
      " 0.04038875 0.12600954 0.06715783 0.09688595 0.06729102 0.14888909\n",
      " 0.04845828 0.0409087  0.06342584 0.07454097 0.13358274 0.0388052\n",
      " 0.173944   0.08299698 0.17977397 0.17123093 0.01636779 0.24644771\n",
      " 0.089199   0.1372149  0.15011652 0.14102557 0.14883253 0.29555878\n",
      " 0.04214973 0.24700842 0.06650732 0.1212195  0.03657115 0.14344419\n",
      " 0.26892258 0.06279073 0.06954009 0.18857327 0.10024278 0.15318481\n",
      " 0.20791931 0.08386619 0.09088417 0.08033853 0.10663238 0.34880585\n",
      " 0.05159133 0.16139113 0.06461839 0.15667361 0.31202551 0.09572401\n",
      " 0.05612832 0.14364035 0.0481217  0.03657595 0.04447534 0.02859748\n",
      " 0.100127   0.10100777 0.07357852 0.14217549 0.14720731 0.17087992\n",
      " 0.18662239 0.08607782 0.12228448 0.07631437 0.05257298 0.13460136\n",
      " 0.05529943 0.03388688 0.15364306 0.12967783 0.06782023 0.05497985\n",
      " 0.18081563 0.09013569 0.07484465 0.07448673 0.11140605 0.05886255\n",
      " 0.09358329 0.15204621 0.06050052 0.11660854 0.12648751 0.05731906\n",
      " 0.09153385 0.2092492  0.1396828  0.09885609 0.07126544 0.103929\n",
      " 0.14215604 0.08810184 0.13128252 0.09918412 0.03576447 0.05832639\n",
      " 0.05463508 0.16958636 0.06045432 0.12892452 0.11752397 0.14385104\n",
      " 0.1727937  0.11453362 0.16138875 0.0327293  0.04167378 0.04542028\n",
      " 0.08465472 0.1550815  0.26459354 0.07484481 0.08344056 0.07564296\n",
      " 0.10484159 0.11091122 0.12137709 0.09257779 0.0418674  0.08438939\n",
      " 0.13452769 0.11909123 0.06093392 0.12648804 0.24005059 0.11920249\n",
      " 0.28441978 0.02200652 0.08068466 0.21635883 0.10334996 0.11885826\n",
      " 0.05182498 0.15890019]\n",
      "img_importance: [0.15864624 0.04710254 0.03621529 0.04604688 0.05122596 0.0494263\n",
      " 0.05691194 0.0423665  0.01672307 0.08951315 0.02813954 0.10407811\n",
      " 0.15122006 0.04294228 0.12255074 0.01322081 0.0306188  0.05505399\n",
      " 0.08663221 0.08997759 0.11765643 0.08215913 0.04962635 0.15199509\n",
      " 0.02990769 0.04113779 0.07842696 0.04498583 0.01080937 0.03108749\n",
      " 0.07397936 0.04461481 0.04739902 0.08299122 0.10319323 0.04158577\n",
      " 0.01389258 0.14275145 0.05108528 0.04692862 0.05978754 0.07294839\n",
      " 0.03642493 0.08269685 0.05796309 0.06984474 0.06168147 0.15772129\n",
      " 0.06499554 0.25974814 0.05492092 0.02744581 0.04654137 0.04148757\n",
      " 0.03837647 0.13208347 0.07168627 0.25128982 0.04548964 0.07956964\n",
      " 0.11043507 0.04410571 0.07316605 0.05179242 0.0376666  0.14266912\n",
      " 0.15181967 0.0386557  0.0548557  0.02824913 0.0981279  0.07494943\n",
      " 0.02328965 0.15196946 0.10774755 0.06694826 0.05844971 0.05939882\n",
      " 0.06127586 0.07111753 0.06374192 0.04705414 0.04128244 0.01558116\n",
      " 0.03006493 0.08918569 0.04740445 0.04972133 0.01568583 0.0688893\n",
      " 0.02686688 0.03360652 0.0387807  0.06706678 0.14900613 0.04096901\n",
      " 0.15259825 0.07693128 0.13051938 0.11227623 0.02638181 0.01776939\n",
      " 0.06535677 0.06130612 0.12381952 0.07611827 0.08861697 0.02363313\n",
      " 0.05040863 0.05381903 0.02636091 0.16823624 0.13545353 0.16645732\n",
      " 0.04901273 0.07753238 0.03790981 0.08350924 0.06309031 0.03615996\n",
      " 0.08470118 0.0266548  0.05287938 0.03145885 0.07911247 0.18529044\n",
      " 0.05079451 0.02829805 0.07743411 0.05344008 0.02805591 0.07334484\n",
      " 0.08622273 0.01487746 0.02776986 0.0655076  0.02704414 0.03420116\n",
      " 0.02119808 0.06131434 0.01383206 0.04349495 0.03915464 0.05423132\n",
      " 0.04443922 0.02651694 0.03070429 0.21941363 0.09744852 0.06796971\n",
      " 0.06423212 0.04655252 0.02899993 0.12046471 0.03329803 0.03384786\n",
      " 0.07957252 0.04774232 0.09126329 0.11336481 0.06973002 0.13085234\n",
      " 0.04965612 0.09705114 0.07416647 0.12284053 0.12141285 0.06321218\n",
      " 0.08912323 0.11784928 0.0810499  0.10478615 0.10003976 0.11940237\n",
      " 0.10292624 0.08324917 0.07540638 0.14428196 0.06689312 0.07552607\n",
      " 0.05995517 0.13259939 0.1145404  0.02840597 0.11223809 0.07260131\n",
      " 0.07658939 0.0510547  0.01962455 0.03366567 0.01074888 0.03016741\n",
      " 0.05915483 0.21286189 0.05580675 0.11594926 0.04489527 0.0509431\n",
      " 0.14633405 0.14077922 0.02482128 0.05223126 0.09111715 0.11176137\n",
      " 0.11869843 0.07391786 0.08702837 0.05539142 0.09868463 0.21665393\n",
      " 0.02308104 0.0796424  0.04798017 0.06771399 0.06560803 0.04263886\n",
      " 0.08033346 0.06707354 0.06367565 0.07810671 0.03214212 0.1278848\n",
      " 0.06761938 0.08972971 0.07133239 0.03747794 0.0597356  0.12945591\n",
      " 0.09461676 0.05100546 0.09047876 0.06535059 0.14340085 0.07386961\n",
      " 0.07432517 0.10382946 0.08527781 0.17721458 0.10286009 0.05118713\n",
      " 0.03219636 0.06599134 0.05788473 0.04786307 0.05828377 0.03365023\n",
      " 0.11633214 0.15151399 0.11725658 0.07735287 0.049608   0.07542353\n",
      " 0.05398849 0.06396953 0.04950388 0.02751147 0.06800634 0.05452297\n",
      " 0.02364558 0.09631059 0.11804101 0.09226055 0.07815022 0.04330619\n",
      " 0.07729235 0.10192232 0.06844541 0.0519292  0.09202013 0.03930941\n",
      " 0.02717276 0.04172931 0.07712551 0.06783624 0.0968534  0.06833108\n",
      " 0.08655527 0.00598371 0.11923143 0.03065681 0.07292046 0.06330953\n",
      " 0.15237661 0.03332848 0.06742007 0.15799606 0.05276707 0.02294238\n",
      " 0.07306593 0.17851872 0.05307589 0.13558076 0.01379118 0.1087366\n",
      " 0.1235832  0.05399698 0.07539836 0.05264501 0.05918969 0.08096896\n",
      " 0.09958373 0.02368274 0.05321069 0.04350606 0.15838784 0.07450482\n",
      " 0.10883812 0.07317722 0.0591607  0.10264047 0.09125848 0.05355906\n",
      " 0.04553929 0.01957657 0.07953703 0.08707921 0.06583228 0.04345954\n",
      " 0.07801395 0.02757011 0.06296206 0.13139152 0.08457763 0.02590423\n",
      " 0.03295931 0.05033299 0.07489716 0.02292935 0.09127736 0.0876108\n",
      " 0.07527405 0.12583206 0.08063235 0.04131472 0.05108949 0.0660359\n",
      " 0.0928226  0.01772426 0.08894927 0.10563879 0.06562532 0.21417548\n",
      " 0.07837699 0.17909595 0.1061156  0.06892136 0.06952884 0.03544262\n",
      " 0.0955999  0.0664485  0.06539303 0.14614797 0.03248491 0.09186084\n",
      " 0.05734497 0.04955699 0.04456988 0.06418368 0.02165969 0.06614902\n",
      " 0.06840343 0.04942846 0.07573088 0.08731247 0.03945578 0.10006806\n",
      " 0.10027356 0.11046504 0.06337512 0.06182059 0.04081429 0.08665198\n",
      " 0.08551617 0.06108317 0.04053132 0.24623978 0.10256796 0.0822101\n",
      " 0.19409637 0.0969386  0.01541564 0.06503584 0.01660833 0.0191666\n",
      " 0.05069387 0.08703265 0.05626032 0.11128486 0.09296706 0.02946088\n",
      " 0.02285168 0.06787487 0.0628065  0.15090643 0.04388878 0.14396778\n",
      " 0.06351708 0.06237471 0.0559966  0.04672401 0.08717662 0.15831568\n",
      " 0.13776291 0.11660519 0.01726355 0.12386101 0.12927987 0.05217817\n",
      " 0.32629811 0.09129486 0.07174569 0.03397928 0.07047402 0.06686443\n",
      " 0.03821198 0.09102746 0.03163849 0.12119951 0.06287466 0.10373842\n",
      " 0.06861416 0.0458916  0.15703203 0.0451877  0.10518417 0.04774398\n",
      " 0.08434389 0.0548963  0.07157646 0.14135015 0.1599335  0.06708862\n",
      " 0.04634525 0.05169743 0.06237161 0.11658691 0.07603886 0.03947414\n",
      " 0.04561    0.03796935 0.08418041 0.03304633 0.05925419 0.09791852\n",
      " 0.13705024 0.02574202 0.05854806 0.07013712 0.04946248 0.06151107\n",
      " 0.05009127 0.04795846 0.02206482 0.02843467 0.03695075 0.13722319\n",
      " 0.07321554 0.10266423 0.08106753 0.10179735 0.02676744 0.05146595\n",
      " 0.10725016 0.06451876 0.03496583 0.06505277 0.06884399 0.06358775\n",
      " 0.05153603 0.03642671 0.09871842 0.03681662 0.03872699 0.01723231\n",
      " 0.07443103 0.05414097 0.06879537 0.03930265 0.0960019  0.17735479\n",
      " 0.02381371 0.0175196  0.07455972 0.0402564  0.13494984 0.0691256\n",
      " 0.08062931 0.12891055 0.09353971 0.06255516 0.05092416 0.03657757\n",
      " 0.04942596 0.14022458 0.0634445  0.22441523 0.03876655 0.03485639\n",
      " 0.08807971 0.05535583 0.02048484 0.05765544 0.09993514 0.04258072\n",
      " 0.05796388 0.05343807 0.17461088 0.05248462 0.01032821 0.03182103\n",
      " 0.02287042 0.0612593 ]\n"
     ]
    },
    {
     "data": {
      "image/png": "[encoded data removed]",
      "text/plain": [
       "<Figure size 1200x500 with 2 Axes>"
      ]
     },
     "metadata": {},
     "output_type": "display_data"
    }
   ],
   "source": [
    "# Get robustness results\n",
    "robustness_stats = analyze_embedding_robustness(text_emb, img_emb, preds, labels)\n",
    "print(\"\\nEmbedding Space Statistics:\")\n",
    "for key, value in robustness_stats.items():\n",
    "    if isinstance(value, float):\n",
    "        print(f\"{key}: {value:.4f}\")\n",
    "    else:\n",
    "        print(f\"{key}: {value}\")"
   ]
  },
  {
   "cell_type": "markdown",
   "metadata": {},
   "source": [
    "Purpose: Displays and interprets key statistics about the embedding spaces.\n",
    "\n",
    "Provides important insights into modality differences.\n",
    "\n",
    "Summary: This section reports and interprets variance and similarity metrics for each modality's embedding space, helping to understand how diverse and clustered the representations are."
   ]
  },
  {
   "cell_type": "code",
   "execution_count": 43,
   "metadata": {},
   "outputs": [
    {
     "name": "stdout",
     "output_type": "stream",
     "text": [
      "\n",
      "Embedding Space Characteristics:\n",
      "Text embedding variance: 0.2835\n",
      "Image embedding variance: 1.1473\n",
      "Text average similarity: 0.4723\n",
      "Image average similarity: 0.4581\n"
     ]
    }
   ],
   "source": [
    "# Analyze embedding space characteristics\n",
    "print(\"\\nEmbedding Space Characteristics:\")\n",
    "print(f\"Text embedding variance: {robustness_stats['text_embedding_variance']:.4f}\")\n",
    "print(f\"Image embedding variance: {robustness_stats['image_embedding_variance']:.4f}\")\n",
    "print(f\"Text average similarity: {robustness_stats['text_avg_similarity']:.4f}\")\n",
    "print(f\"Image average similarity: {robustness_stats['image_avg_similarity']:.4f}\")\n"
   ]
  },
  {
   "cell_type": "code",
   "execution_count": 44,
   "metadata": {},
   "outputs": [
    {
     "name": "stdout",
     "output_type": "stream",
     "text": [
      "\n",
      "Embedding Space Comparison:\n",
      "Image embeddings have higher variance, suggesting more diverse representations.\n",
      "Text embeddings have higher average similarity, suggesting more clustered representations.\n"
     ]
    }
   ],
   "source": [
    "# Compare embedding spaces\n",
    "print(\"\\nEmbedding Space Comparison:\")\n",
    "if robustness_stats['text_embedding_variance'] > robustness_stats['image_embedding_variance']:\n",
    "    print(\"Text embeddings have higher variance, suggesting more diverse representations.\")\n",
    "else:\n",
    "    print(\"Image embeddings have higher variance, suggesting more diverse representations.\")\n",
    "\n",
    "if robustness_stats['text_avg_similarity'] > robustness_stats['image_avg_similarity']:\n",
    "    print(\"Text embeddings have higher average similarity, suggesting more clustered representations.\")\n",
    "else:\n",
    "    print(\"Image embeddings have higher average similarity, suggesting more clustered representations.\")"
   ]
  },
  {
   "cell_type": "markdown",
   "metadata": {},
   "source": [
    "Purpose: Visualizes the most important features in each modality.\n",
    "\n",
    "Provides visual insights into feature importance.\n",
    "\n",
    "Summary: This section creates bar charts showing the importance scores of the top 10 most influential features for each modality, helping to identify which features contribute most to the model's predictions."
   ]
  },
  {
   "cell_type": "code",
   "execution_count": 45,
   "metadata": {},
   "outputs": [
    {
     "data": {
      "image/png": "[encoded data removed]",
      "text/plain": [
       "<Figure size 1200x500 with 2 Axes>"
      ]
     },
     "metadata": {},
     "output_type": "display_data"
    }
   ],
   "source": [
    "# Visualize top features\n",
    "# Visualize top features\n",
    "plt.figure(figsize=(12, 5))\n",
    "\n",
    "plt.subplot(1, 2, 1)\n",
    "plt.bar(range(10), [robustness_stats['text_importance'][i] for i in robustness_stats['text_top_features']])\n",
    "plt.title('Top 10 Text Features')\n",
    "plt.xlabel('Feature Index')\n",
    "plt.ylabel('Importance Score')\n",
    "\n",
    "plt.subplot(1, 2, 2)\n",
    "plt.bar(range(10), [robustness_stats['img_importance'][i] for i in robustness_stats['img_top_features']])\n",
    "plt.title('Top 10 Image Features')\n",
    "plt.xlabel('Feature Index')\n",
    "plt.ylabel('Importance Score')\n",
    "\n",
    "plt.tight_layout()\n",
    "plt.savefig('top_features.png')\n",
    "plt.show()\n"
   ]
  },
  {
   "cell_type": "markdown",
   "metadata": {},
   "source": [
    "Purpose: Visualizes the embedding spaces using dimensionality reduction.\n",
    "\n",
    "Provides visual understanding of embedding structure.\n",
    "\n",
    "Summary: This section creates scatter plots of the t-SNE projections of both embedding spaces, allowing visualization of their structure and distribution in a 2D space."
   ]
  },
  {
   "cell_type": "code",
   "execution_count": null,
   "metadata": {},
   "outputs": [],
   "source": [
    "# Visualize embedding spaces with t-SNE\n",
    "plt.figure(figsize=(12, 5))\n",
    "plt.subplot(1, 2, 1)\n",
    "plt.scatter(robustness_stats['text_tsne'][:, 0], robustness_stats['text_tsne'][:, 1], alpha=0.5)\n",
    "plt.title('Text Embedding Space')\n",
    "\n",
    "plt.subplot(1, 2, 2)\n",
    "plt.scatter(robustness_stats['img_tsne'][:, 0], robustness_stats['img_tsne'][:, 1], alpha=0.5)\n",
    "plt.title('Image Embedding Space')\n",
    "\n",
    "plt.tight_layout()\n",
    "plt.savefig('embedding_spaces.png')\n",
    "plt.show()"
   ]
  },
  {
   "cell_type": "markdown",
   "metadata": {},
   "source": [
    "Purpose: Analyzes how evenly distributed feature importance is within each modality.\n",
    "\n",
    "Provides insights into feature specialization.\n",
    "\n",
    "Summary: This section calculates and compares the standard deviation of feature importance scores within each modality, helping to understand whether features have specialized roles or contribute more uniformly."
   ]
  },
  {
   "cell_type": "code",
   "execution_count": null,
   "metadata": {},
   "outputs": [],
   "source": [
    "# Feature diversity analysis\n",
    "text_feature_diversity = np.std(robustness_stats['text_importance'])\n",
    "img_feature_diversity = np.std(robustness_stats['img_importance'])\n",
    "print(f\"Text feature importance diversity: {text_feature_diversity:.4f}\")\n",
    "print(f\"Image feature importance diversity: {img_feature_diversity:.4f}\")\n",
    "\n",
    "if text_feature_diversity > img_feature_diversity:\n",
    "    print(\"Text features show more diversity in importance, suggesting specialized roles.\")\n",
    "else:\n",
    "    print(\"Image features show more diversity in importance, suggesting specialized roles.\")"
   ]
  },
  {
   "cell_type": "code",
   "execution_count": null,
   "metadata": {},
   "outputs": [],
   "source": [
    "# Add this to analyze inter-modality correlation\n",
    "from scipy.stats import pearsonr\n",
    "modality_correlation = pearsonr(\n",
    "    np.mean(text_emb, axis=1),\n",
    "    np.mean(img_emb, axis=1)\n",
    ")[0]\n",
    "print(f\"Correlation between modalities: {modality_correlation:.4f}\")"
   ]
  },
  {
   "cell_type": "markdown",
   "metadata": {},
   "source": [
    "# IX. Conclusion and Recommendations"
   ]
  },
  {
   "cell_type": "code",
   "execution_count": null,
   "metadata": {},
   "outputs": [
    {
     "name": "stdout",
     "output_type": "stream",
     "text": [
      "\n",
      "Conclusion and Recommendations:\n",
      "1. The image modality is more robust to noise, suggesting it provides more reliable information.\n",
      "2. Consider increasing the weight of image features in the fusion process.\n",
      "3. For critical applications, image inputs should be prioritized over text inputs.\n",
      "\n",
      "General recommendations:\n",
      "1. Implement an attention mechanism to dynamically weight modalities based on input quality.\n",
      "2. Consider adding regularization to the less robust modality to improve its performance.\n",
      "3. For deployment, implement confidence scores based on embedding characteristics.\n",
      "4. Explore adversarial training to further improve robustness of both modalities.\n"
     ]
    }
   ],
   "source": []
  },
  {
   "cell_type": "code",
   "execution_count": null,
   "metadata": {},
   "outputs": [],
   "source": []
  }
 ],
 "metadata": {
  "kernelspec": {
   "display_name": "base",
   "language": "python",
   "name": "python3"
  },
  "language_info": {
   "codemirror_mode": {
    "name": "ipython",
    "version": 3
   },
   "file_extension": ".py",
   "mimetype": "text/x-python",
   "name": "python",
   "nbconvert_exporter": "python",
   "pygments_lexer": "ipython3",
   "version": "3.12.7"
  }
 },
 "nbformat": 4,
 "nbformat_minor": 2
}
